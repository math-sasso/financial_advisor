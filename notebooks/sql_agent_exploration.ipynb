{
 "cells": [
  {
   "cell_type": "code",
   "execution_count": 11,
   "metadata": {},
   "outputs": [
    {
     "name": "stdout",
     "output_type": "stream",
     "text": [
      "Requirement already satisfied: python-dotenv in /home/matheus/Projects/tests/motive/.venv/lib/python3.10/site-packages (1.0.1)\n",
      "\n",
      "\u001b[1m[\u001b[0m\u001b[34;49mnotice\u001b[0m\u001b[1;39;49m]\u001b[0m\u001b[39;49m A new release of pip is available: \u001b[0m\u001b[31;49m23.0.1\u001b[0m\u001b[39;49m -> \u001b[0m\u001b[32;49m24.0\u001b[0m\n",
      "\u001b[1m[\u001b[0m\u001b[34;49mnotice\u001b[0m\u001b[1;39;49m]\u001b[0m\u001b[39;49m To update, run: \u001b[0m\u001b[32;49mpip install --upgrade pip\u001b[0m\n",
      "Requirement already satisfied: langchain in /home/matheus/Projects/tests/motive/.venv/lib/python3.10/site-packages (0.2.5)\n",
      "Requirement already satisfied: PyYAML>=5.3 in /home/matheus/Projects/tests/motive/.venv/lib/python3.10/site-packages (from langchain) (6.0.1)\n",
      "Requirement already satisfied: async-timeout<5.0.0,>=4.0.0 in /home/matheus/Projects/tests/motive/.venv/lib/python3.10/site-packages (from langchain) (4.0.3)\n",
      "Requirement already satisfied: tenacity<9.0.0,>=8.1.0 in /home/matheus/Projects/tests/motive/.venv/lib/python3.10/site-packages (from langchain) (8.4.1)\n",
      "Requirement already satisfied: requests<3,>=2 in /home/matheus/Projects/tests/motive/.venv/lib/python3.10/site-packages (from langchain) (2.32.3)\n",
      "Requirement already satisfied: langchain-text-splitters<0.3.0,>=0.2.0 in /home/matheus/Projects/tests/motive/.venv/lib/python3.10/site-packages (from langchain) (0.2.1)\n",
      "Requirement already satisfied: pydantic<3,>=1 in /home/matheus/Projects/tests/motive/.venv/lib/python3.10/site-packages (from langchain) (2.7.4)\n",
      "Requirement already satisfied: langsmith<0.2.0,>=0.1.17 in /home/matheus/Projects/tests/motive/.venv/lib/python3.10/site-packages (from langchain) (0.1.77)\n",
      "Requirement already satisfied: aiohttp<4.0.0,>=3.8.3 in /home/matheus/Projects/tests/motive/.venv/lib/python3.10/site-packages (from langchain) (3.9.5)\n",
      "Requirement already satisfied: SQLAlchemy<3,>=1.4 in /home/matheus/Projects/tests/motive/.venv/lib/python3.10/site-packages (from langchain) (2.0.30)\n",
      "Requirement already satisfied: numpy<2,>=1 in /home/matheus/Projects/tests/motive/.venv/lib/python3.10/site-packages (from langchain) (1.26.4)\n",
      "Requirement already satisfied: langchain-core<0.3.0,>=0.2.7 in /home/matheus/Projects/tests/motive/.venv/lib/python3.10/site-packages (from langchain) (0.2.7)\n",
      "Requirement already satisfied: yarl<2.0,>=1.0 in /home/matheus/Projects/tests/motive/.venv/lib/python3.10/site-packages (from aiohttp<4.0.0,>=3.8.3->langchain) (1.9.4)\n",
      "Requirement already satisfied: multidict<7.0,>=4.5 in /home/matheus/Projects/tests/motive/.venv/lib/python3.10/site-packages (from aiohttp<4.0.0,>=3.8.3->langchain) (6.0.5)\n",
      "Requirement already satisfied: frozenlist>=1.1.1 in /home/matheus/Projects/tests/motive/.venv/lib/python3.10/site-packages (from aiohttp<4.0.0,>=3.8.3->langchain) (1.4.1)\n",
      "Requirement already satisfied: aiosignal>=1.1.2 in /home/matheus/Projects/tests/motive/.venv/lib/python3.10/site-packages (from aiohttp<4.0.0,>=3.8.3->langchain) (1.3.1)\n",
      "Requirement already satisfied: attrs>=17.3.0 in /home/matheus/Projects/tests/motive/.venv/lib/python3.10/site-packages (from aiohttp<4.0.0,>=3.8.3->langchain) (23.2.0)\n",
      "Requirement already satisfied: packaging<25,>=23.2 in /home/matheus/Projects/tests/motive/.venv/lib/python3.10/site-packages (from langchain-core<0.3.0,>=0.2.7->langchain) (24.1)\n",
      "Requirement already satisfied: jsonpatch<2.0,>=1.33 in /home/matheus/Projects/tests/motive/.venv/lib/python3.10/site-packages (from langchain-core<0.3.0,>=0.2.7->langchain) (1.33)\n",
      "Requirement already satisfied: orjson<4.0.0,>=3.9.14 in /home/matheus/Projects/tests/motive/.venv/lib/python3.10/site-packages (from langsmith<0.2.0,>=0.1.17->langchain) (3.10.5)\n",
      "Requirement already satisfied: typing-extensions>=4.6.1 in /home/matheus/Projects/tests/motive/.venv/lib/python3.10/site-packages (from pydantic<3,>=1->langchain) (4.12.2)\n",
      "Requirement already satisfied: annotated-types>=0.4.0 in /home/matheus/Projects/tests/motive/.venv/lib/python3.10/site-packages (from pydantic<3,>=1->langchain) (0.7.0)\n",
      "Requirement already satisfied: pydantic-core==2.18.4 in /home/matheus/Projects/tests/motive/.venv/lib/python3.10/site-packages (from pydantic<3,>=1->langchain) (2.18.4)\n",
      "Requirement already satisfied: idna<4,>=2.5 in /home/matheus/Projects/tests/motive/.venv/lib/python3.10/site-packages (from requests<3,>=2->langchain) (3.7)\n",
      "Requirement already satisfied: urllib3<3,>=1.21.1 in /home/matheus/Projects/tests/motive/.venv/lib/python3.10/site-packages (from requests<3,>=2->langchain) (2.2.2)\n",
      "Requirement already satisfied: certifi>=2017.4.17 in /home/matheus/Projects/tests/motive/.venv/lib/python3.10/site-packages (from requests<3,>=2->langchain) (2024.6.2)\n",
      "Requirement already satisfied: charset-normalizer<4,>=2 in /home/matheus/Projects/tests/motive/.venv/lib/python3.10/site-packages (from requests<3,>=2->langchain) (3.3.2)\n",
      "Requirement already satisfied: greenlet!=0.4.17 in /home/matheus/Projects/tests/motive/.venv/lib/python3.10/site-packages (from SQLAlchemy<3,>=1.4->langchain) (3.0.3)\n",
      "Requirement already satisfied: jsonpointer>=1.9 in /home/matheus/Projects/tests/motive/.venv/lib/python3.10/site-packages (from jsonpatch<2.0,>=1.33->langchain-core<0.3.0,>=0.2.7->langchain) (3.0.0)\n",
      "\n",
      "\u001b[1m[\u001b[0m\u001b[34;49mnotice\u001b[0m\u001b[1;39;49m]\u001b[0m\u001b[39;49m A new release of pip is available: \u001b[0m\u001b[31;49m23.0.1\u001b[0m\u001b[39;49m -> \u001b[0m\u001b[32;49m24.0\u001b[0m\n",
      "\u001b[1m[\u001b[0m\u001b[34;49mnotice\u001b[0m\u001b[1;39;49m]\u001b[0m\u001b[39;49m To update, run: \u001b[0m\u001b[32;49mpip install --upgrade pip\u001b[0m\n",
      "Requirement already satisfied: langchain-openai in /home/matheus/Projects/tests/motive/.venv/lib/python3.10/site-packages (0.1.8)\n",
      "Requirement already satisfied: tiktoken<1,>=0.7 in /home/matheus/Projects/tests/motive/.venv/lib/python3.10/site-packages (from langchain-openai) (0.7.0)\n",
      "Requirement already satisfied: openai<2.0.0,>=1.26.0 in /home/matheus/Projects/tests/motive/.venv/lib/python3.10/site-packages (from langchain-openai) (1.34.0)\n",
      "Requirement already satisfied: langchain-core<0.3,>=0.2.2 in /home/matheus/Projects/tests/motive/.venv/lib/python3.10/site-packages (from langchain-openai) (0.2.7)\n",
      "Requirement already satisfied: langsmith<0.2.0,>=0.1.75 in /home/matheus/Projects/tests/motive/.venv/lib/python3.10/site-packages (from langchain-core<0.3,>=0.2.2->langchain-openai) (0.1.77)\n",
      "Requirement already satisfied: jsonpatch<2.0,>=1.33 in /home/matheus/Projects/tests/motive/.venv/lib/python3.10/site-packages (from langchain-core<0.3,>=0.2.2->langchain-openai) (1.33)\n",
      "Requirement already satisfied: PyYAML>=5.3 in /home/matheus/Projects/tests/motive/.venv/lib/python3.10/site-packages (from langchain-core<0.3,>=0.2.2->langchain-openai) (6.0.1)\n",
      "Requirement already satisfied: packaging<25,>=23.2 in /home/matheus/Projects/tests/motive/.venv/lib/python3.10/site-packages (from langchain-core<0.3,>=0.2.2->langchain-openai) (24.1)\n",
      "Requirement already satisfied: tenacity<9.0.0,>=8.1.0 in /home/matheus/Projects/tests/motive/.venv/lib/python3.10/site-packages (from langchain-core<0.3,>=0.2.2->langchain-openai) (8.4.1)\n",
      "Requirement already satisfied: pydantic<3,>=1 in /home/matheus/Projects/tests/motive/.venv/lib/python3.10/site-packages (from langchain-core<0.3,>=0.2.2->langchain-openai) (2.7.4)\n",
      "Requirement already satisfied: tqdm>4 in /home/matheus/Projects/tests/motive/.venv/lib/python3.10/site-packages (from openai<2.0.0,>=1.26.0->langchain-openai) (4.66.4)\n",
      "Requirement already satisfied: httpx<1,>=0.23.0 in /home/matheus/Projects/tests/motive/.venv/lib/python3.10/site-packages (from openai<2.0.0,>=1.26.0->langchain-openai) (0.27.0)\n",
      "Requirement already satisfied: typing-extensions<5,>=4.7 in /home/matheus/Projects/tests/motive/.venv/lib/python3.10/site-packages (from openai<2.0.0,>=1.26.0->langchain-openai) (4.12.2)\n",
      "Requirement already satisfied: distro<2,>=1.7.0 in /home/matheus/Projects/tests/motive/.venv/lib/python3.10/site-packages (from openai<2.0.0,>=1.26.0->langchain-openai) (1.9.0)\n",
      "Requirement already satisfied: sniffio in /home/matheus/Projects/tests/motive/.venv/lib/python3.10/site-packages (from openai<2.0.0,>=1.26.0->langchain-openai) (1.3.1)\n",
      "Requirement already satisfied: anyio<5,>=3.5.0 in /home/matheus/Projects/tests/motive/.venv/lib/python3.10/site-packages (from openai<2.0.0,>=1.26.0->langchain-openai) (4.4.0)\n",
      "Requirement already satisfied: requests>=2.26.0 in /home/matheus/Projects/tests/motive/.venv/lib/python3.10/site-packages (from tiktoken<1,>=0.7->langchain-openai) (2.32.3)\n",
      "Requirement already satisfied: regex>=2022.1.18 in /home/matheus/Projects/tests/motive/.venv/lib/python3.10/site-packages (from tiktoken<1,>=0.7->langchain-openai) (2024.5.15)\n",
      "Requirement already satisfied: idna>=2.8 in /home/matheus/Projects/tests/motive/.venv/lib/python3.10/site-packages (from anyio<5,>=3.5.0->openai<2.0.0,>=1.26.0->langchain-openai) (3.7)\n",
      "Requirement already satisfied: exceptiongroup>=1.0.2 in /home/matheus/Projects/tests/motive/.venv/lib/python3.10/site-packages (from anyio<5,>=3.5.0->openai<2.0.0,>=1.26.0->langchain-openai) (1.2.1)\n",
      "Requirement already satisfied: httpcore==1.* in /home/matheus/Projects/tests/motive/.venv/lib/python3.10/site-packages (from httpx<1,>=0.23.0->openai<2.0.0,>=1.26.0->langchain-openai) (1.0.5)\n",
      "Requirement already satisfied: certifi in /home/matheus/Projects/tests/motive/.venv/lib/python3.10/site-packages (from httpx<1,>=0.23.0->openai<2.0.0,>=1.26.0->langchain-openai) (2024.6.2)\n",
      "Requirement already satisfied: h11<0.15,>=0.13 in /home/matheus/Projects/tests/motive/.venv/lib/python3.10/site-packages (from httpcore==1.*->httpx<1,>=0.23.0->openai<2.0.0,>=1.26.0->langchain-openai) (0.14.0)\n",
      "Requirement already satisfied: jsonpointer>=1.9 in /home/matheus/Projects/tests/motive/.venv/lib/python3.10/site-packages (from jsonpatch<2.0,>=1.33->langchain-core<0.3,>=0.2.2->langchain-openai) (3.0.0)\n",
      "Requirement already satisfied: orjson<4.0.0,>=3.9.14 in /home/matheus/Projects/tests/motive/.venv/lib/python3.10/site-packages (from langsmith<0.2.0,>=0.1.75->langchain-core<0.3,>=0.2.2->langchain-openai) (3.10.5)\n",
      "Requirement already satisfied: pydantic-core==2.18.4 in /home/matheus/Projects/tests/motive/.venv/lib/python3.10/site-packages (from pydantic<3,>=1->langchain-core<0.3,>=0.2.2->langchain-openai) (2.18.4)\n",
      "Requirement already satisfied: annotated-types>=0.4.0 in /home/matheus/Projects/tests/motive/.venv/lib/python3.10/site-packages (from pydantic<3,>=1->langchain-core<0.3,>=0.2.2->langchain-openai) (0.7.0)\n",
      "Requirement already satisfied: urllib3<3,>=1.21.1 in /home/matheus/Projects/tests/motive/.venv/lib/python3.10/site-packages (from requests>=2.26.0->tiktoken<1,>=0.7->langchain-openai) (2.2.2)\n",
      "Requirement already satisfied: charset-normalizer<4,>=2 in /home/matheus/Projects/tests/motive/.venv/lib/python3.10/site-packages (from requests>=2.26.0->tiktoken<1,>=0.7->langchain-openai) (3.3.2)\n",
      "\n",
      "\u001b[1m[\u001b[0m\u001b[34;49mnotice\u001b[0m\u001b[1;39;49m]\u001b[0m\u001b[39;49m A new release of pip is available: \u001b[0m\u001b[31;49m23.0.1\u001b[0m\u001b[39;49m -> \u001b[0m\u001b[32;49m24.0\u001b[0m\n",
      "\u001b[1m[\u001b[0m\u001b[34;49mnotice\u001b[0m\u001b[1;39;49m]\u001b[0m\u001b[39;49m To update, run: \u001b[0m\u001b[32;49mpip install --upgrade pip\u001b[0m\n",
      "Requirement already satisfied: pandas in /home/matheus/Projects/tests/motive/.venv/lib/python3.10/site-packages (2.2.2)\n",
      "Requirement already satisfied: tzdata>=2022.7 in /home/matheus/Projects/tests/motive/.venv/lib/python3.10/site-packages (from pandas) (2024.1)\n",
      "Requirement already satisfied: python-dateutil>=2.8.2 in /home/matheus/Projects/tests/motive/.venv/lib/python3.10/site-packages (from pandas) (2.9.0.post0)\n",
      "Requirement already satisfied: pytz>=2020.1 in /home/matheus/Projects/tests/motive/.venv/lib/python3.10/site-packages (from pandas) (2024.1)\n",
      "Requirement already satisfied: numpy>=1.22.4 in /home/matheus/Projects/tests/motive/.venv/lib/python3.10/site-packages (from pandas) (1.26.4)\n",
      "Requirement already satisfied: six>=1.5 in /home/matheus/Projects/tests/motive/.venv/lib/python3.10/site-packages (from python-dateutil>=2.8.2->pandas) (1.16.0)\n",
      "\n",
      "\u001b[1m[\u001b[0m\u001b[34;49mnotice\u001b[0m\u001b[1;39;49m]\u001b[0m\u001b[39;49m A new release of pip is available: \u001b[0m\u001b[31;49m23.0.1\u001b[0m\u001b[39;49m -> \u001b[0m\u001b[32;49m24.0\u001b[0m\n",
      "\u001b[1m[\u001b[0m\u001b[34;49mnotice\u001b[0m\u001b[1;39;49m]\u001b[0m\u001b[39;49m To update, run: \u001b[0m\u001b[32;49mpip install --upgrade pip\u001b[0m\n",
      "Collecting tabulate\n",
      "  Using cached tabulate-0.9.0-py3-none-any.whl (35 kB)\n",
      "Installing collected packages: tabulate\n",
      "Successfully installed tabulate-0.9.0\n",
      "\n",
      "\u001b[1m[\u001b[0m\u001b[34;49mnotice\u001b[0m\u001b[1;39;49m]\u001b[0m\u001b[39;49m A new release of pip is available: \u001b[0m\u001b[31;49m23.0.1\u001b[0m\u001b[39;49m -> \u001b[0m\u001b[32;49m24.0\u001b[0m\n",
      "\u001b[1m[\u001b[0m\u001b[34;49mnotice\u001b[0m\u001b[1;39;49m]\u001b[0m\u001b[39;49m To update, run: \u001b[0m\u001b[32;49mpip install --upgrade pip\u001b[0m\n",
      "Requirement already satisfied: langchain-experimental in /home/matheus/Projects/tests/motive/.venv/lib/python3.10/site-packages (0.0.61)\n",
      "Requirement already satisfied: langchain-core<0.3.0,>=0.2.7 in /home/matheus/Projects/tests/motive/.venv/lib/python3.10/site-packages (from langchain-experimental) (0.2.7)\n",
      "Requirement already satisfied: langchain-community<0.3.0,>=0.2.5 in /home/matheus/Projects/tests/motive/.venv/lib/python3.10/site-packages (from langchain-experimental) (0.2.5)\n",
      "Requirement already satisfied: aiohttp<4.0.0,>=3.8.3 in /home/matheus/Projects/tests/motive/.venv/lib/python3.10/site-packages (from langchain-community<0.3.0,>=0.2.5->langchain-experimental) (3.9.5)\n",
      "Requirement already satisfied: numpy<2,>=1 in /home/matheus/Projects/tests/motive/.venv/lib/python3.10/site-packages (from langchain-community<0.3.0,>=0.2.5->langchain-experimental) (1.26.4)\n",
      "Requirement already satisfied: langchain<0.3.0,>=0.2.5 in /home/matheus/Projects/tests/motive/.venv/lib/python3.10/site-packages (from langchain-community<0.3.0,>=0.2.5->langchain-experimental) (0.2.5)\n",
      "Requirement already satisfied: PyYAML>=5.3 in /home/matheus/Projects/tests/motive/.venv/lib/python3.10/site-packages (from langchain-community<0.3.0,>=0.2.5->langchain-experimental) (6.0.1)\n",
      "Requirement already satisfied: SQLAlchemy<3,>=1.4 in /home/matheus/Projects/tests/motive/.venv/lib/python3.10/site-packages (from langchain-community<0.3.0,>=0.2.5->langchain-experimental) (2.0.30)\n",
      "Requirement already satisfied: tenacity<9.0.0,>=8.1.0 in /home/matheus/Projects/tests/motive/.venv/lib/python3.10/site-packages (from langchain-community<0.3.0,>=0.2.5->langchain-experimental) (8.4.1)\n",
      "Requirement already satisfied: requests<3,>=2 in /home/matheus/Projects/tests/motive/.venv/lib/python3.10/site-packages (from langchain-community<0.3.0,>=0.2.5->langchain-experimental) (2.32.3)\n",
      "Requirement already satisfied: langsmith<0.2.0,>=0.1.0 in /home/matheus/Projects/tests/motive/.venv/lib/python3.10/site-packages (from langchain-community<0.3.0,>=0.2.5->langchain-experimental) (0.1.77)\n",
      "Requirement already satisfied: dataclasses-json<0.7,>=0.5.7 in /home/matheus/Projects/tests/motive/.venv/lib/python3.10/site-packages (from langchain-community<0.3.0,>=0.2.5->langchain-experimental) (0.6.7)\n",
      "Requirement already satisfied: pydantic<3,>=1 in /home/matheus/Projects/tests/motive/.venv/lib/python3.10/site-packages (from langchain-core<0.3.0,>=0.2.7->langchain-experimental) (2.7.4)\n",
      "Requirement already satisfied: jsonpatch<2.0,>=1.33 in /home/matheus/Projects/tests/motive/.venv/lib/python3.10/site-packages (from langchain-core<0.3.0,>=0.2.7->langchain-experimental) (1.33)\n",
      "Requirement already satisfied: packaging<25,>=23.2 in /home/matheus/Projects/tests/motive/.venv/lib/python3.10/site-packages (from langchain-core<0.3.0,>=0.2.7->langchain-experimental) (24.1)\n",
      "Requirement already satisfied: async-timeout<5.0,>=4.0 in /home/matheus/Projects/tests/motive/.venv/lib/python3.10/site-packages (from aiohttp<4.0.0,>=3.8.3->langchain-community<0.3.0,>=0.2.5->langchain-experimental) (4.0.3)\n",
      "Requirement already satisfied: yarl<2.0,>=1.0 in /home/matheus/Projects/tests/motive/.venv/lib/python3.10/site-packages (from aiohttp<4.0.0,>=3.8.3->langchain-community<0.3.0,>=0.2.5->langchain-experimental) (1.9.4)\n",
      "Requirement already satisfied: aiosignal>=1.1.2 in /home/matheus/Projects/tests/motive/.venv/lib/python3.10/site-packages (from aiohttp<4.0.0,>=3.8.3->langchain-community<0.3.0,>=0.2.5->langchain-experimental) (1.3.1)\n",
      "Requirement already satisfied: frozenlist>=1.1.1 in /home/matheus/Projects/tests/motive/.venv/lib/python3.10/site-packages (from aiohttp<4.0.0,>=3.8.3->langchain-community<0.3.0,>=0.2.5->langchain-experimental) (1.4.1)\n",
      "Requirement already satisfied: attrs>=17.3.0 in /home/matheus/Projects/tests/motive/.venv/lib/python3.10/site-packages (from aiohttp<4.0.0,>=3.8.3->langchain-community<0.3.0,>=0.2.5->langchain-experimental) (23.2.0)\n",
      "Requirement already satisfied: multidict<7.0,>=4.5 in /home/matheus/Projects/tests/motive/.venv/lib/python3.10/site-packages (from aiohttp<4.0.0,>=3.8.3->langchain-community<0.3.0,>=0.2.5->langchain-experimental) (6.0.5)\n",
      "Requirement already satisfied: marshmallow<4.0.0,>=3.18.0 in /home/matheus/Projects/tests/motive/.venv/lib/python3.10/site-packages (from dataclasses-json<0.7,>=0.5.7->langchain-community<0.3.0,>=0.2.5->langchain-experimental) (3.21.3)\n",
      "Requirement already satisfied: typing-inspect<1,>=0.4.0 in /home/matheus/Projects/tests/motive/.venv/lib/python3.10/site-packages (from dataclasses-json<0.7,>=0.5.7->langchain-community<0.3.0,>=0.2.5->langchain-experimental) (0.9.0)\n",
      "Requirement already satisfied: jsonpointer>=1.9 in /home/matheus/Projects/tests/motive/.venv/lib/python3.10/site-packages (from jsonpatch<2.0,>=1.33->langchain-core<0.3.0,>=0.2.7->langchain-experimental) (3.0.0)\n",
      "Requirement already satisfied: langchain-text-splitters<0.3.0,>=0.2.0 in /home/matheus/Projects/tests/motive/.venv/lib/python3.10/site-packages (from langchain<0.3.0,>=0.2.5->langchain-community<0.3.0,>=0.2.5->langchain-experimental) (0.2.1)\n",
      "Requirement already satisfied: orjson<4.0.0,>=3.9.14 in /home/matheus/Projects/tests/motive/.venv/lib/python3.10/site-packages (from langsmith<0.2.0,>=0.1.0->langchain-community<0.3.0,>=0.2.5->langchain-experimental) (3.10.5)\n",
      "Requirement already satisfied: pydantic-core==2.18.4 in /home/matheus/Projects/tests/motive/.venv/lib/python3.10/site-packages (from pydantic<3,>=1->langchain-core<0.3.0,>=0.2.7->langchain-experimental) (2.18.4)\n",
      "Requirement already satisfied: typing-extensions>=4.6.1 in /home/matheus/Projects/tests/motive/.venv/lib/python3.10/site-packages (from pydantic<3,>=1->langchain-core<0.3.0,>=0.2.7->langchain-experimental) (4.12.2)\n",
      "Requirement already satisfied: annotated-types>=0.4.0 in /home/matheus/Projects/tests/motive/.venv/lib/python3.10/site-packages (from pydantic<3,>=1->langchain-core<0.3.0,>=0.2.7->langchain-experimental) (0.7.0)\n",
      "Requirement already satisfied: certifi>=2017.4.17 in /home/matheus/Projects/tests/motive/.venv/lib/python3.10/site-packages (from requests<3,>=2->langchain-community<0.3.0,>=0.2.5->langchain-experimental) (2024.6.2)\n",
      "Requirement already satisfied: charset-normalizer<4,>=2 in /home/matheus/Projects/tests/motive/.venv/lib/python3.10/site-packages (from requests<3,>=2->langchain-community<0.3.0,>=0.2.5->langchain-experimental) (3.3.2)\n",
      "Requirement already satisfied: urllib3<3,>=1.21.1 in /home/matheus/Projects/tests/motive/.venv/lib/python3.10/site-packages (from requests<3,>=2->langchain-community<0.3.0,>=0.2.5->langchain-experimental) (2.2.2)\n",
      "Requirement already satisfied: idna<4,>=2.5 in /home/matheus/Projects/tests/motive/.venv/lib/python3.10/site-packages (from requests<3,>=2->langchain-community<0.3.0,>=0.2.5->langchain-experimental) (3.7)\n",
      "Requirement already satisfied: greenlet!=0.4.17 in /home/matheus/Projects/tests/motive/.venv/lib/python3.10/site-packages (from SQLAlchemy<3,>=1.4->langchain-community<0.3.0,>=0.2.5->langchain-experimental) (3.0.3)\n",
      "Requirement already satisfied: mypy-extensions>=0.3.0 in /home/matheus/Projects/tests/motive/.venv/lib/python3.10/site-packages (from typing-inspect<1,>=0.4.0->dataclasses-json<0.7,>=0.5.7->langchain-community<0.3.0,>=0.2.5->langchain-experimental) (1.0.0)\n",
      "\n",
      "\u001b[1m[\u001b[0m\u001b[34;49mnotice\u001b[0m\u001b[1;39;49m]\u001b[0m\u001b[39;49m A new release of pip is available: \u001b[0m\u001b[31;49m23.0.1\u001b[0m\u001b[39;49m -> \u001b[0m\u001b[32;49m24.0\u001b[0m\n",
      "\u001b[1m[\u001b[0m\u001b[34;49mnotice\u001b[0m\u001b[1;39;49m]\u001b[0m\u001b[39;49m To update, run: \u001b[0m\u001b[32;49mpip install --upgrade pip\u001b[0m\n"
     ]
    }
   ],
   "source": [
    "! pip install python-dotenv\n",
    "! pip install langchain\n",
    "! pip install langchain-openai\n",
    "! pip install pandas\n",
    "! pip install tabulate\n",
    "! pip install langchain-experimental"
   ]
  },
  {
   "cell_type": "code",
   "execution_count": 2,
   "metadata": {},
   "outputs": [
    {
     "data": {
      "text/plain": [
       "PosixPath('/home/matheus/Projects/tests/motive/data')"
      ]
     },
     "execution_count": 2,
     "metadata": {},
     "output_type": "execute_result"
    }
   ],
   "source": [
    "import os\n",
    "from pathlib import Path\n",
    "data_folder = Path.cwd().parent / 'data'\n",
    "data_folder"
   ]
  },
  {
   "cell_type": "code",
   "execution_count": 3,
   "metadata": {},
   "outputs": [
    {
     "data": {
      "text/plain": [
       "True"
      ]
     },
     "execution_count": 3,
     "metadata": {},
     "output_type": "execute_result"
    }
   ],
   "source": [
    "import os\n",
    "from dotenv import load_dotenv\n",
    "\n",
    "load_dotenv()"
   ]
  },
  {
   "cell_type": "code",
   "execution_count": 4,
   "metadata": {},
   "outputs": [
    {
     "data": {
      "text/plain": [
       "'/home/matheus/Projects/tests/motive/db/test.db'"
      ]
     },
     "execution_count": 4,
     "metadata": {},
     "output_type": "execute_result"
    }
   ],
   "source": [
    "from pathlib import Path\n",
    "# Path to your SQLite database file\n",
    "database_dirpath = Path.cwd().parent / \"db\"\n",
    "database_file_path = database_dirpath / \"test.db\"\n",
    "database_file_path.as_posix()"
   ]
  },
  {
   "cell_type": "code",
   "execution_count": 5,
   "metadata": {},
   "outputs": [
    {
     "data": {
      "text/plain": [
       "<langchain_community.utilities.sql_database.SQLDatabase at 0x7f94cb239d50>"
      ]
     },
     "execution_count": 5,
     "metadata": {},
     "output_type": "execute_result"
    }
   ],
   "source": [
    "from langchain_community.utilities.sql_database import SQLDatabase\n",
    "\n",
    "db = SQLDatabase.from_uri(f\"sqlite:///{database_file_path}\")\n",
    "db"
   ]
  },
  {
   "cell_type": "code",
   "execution_count": 23,
   "metadata": {},
   "outputs": [],
   "source": [
    "from langchain_community.agent_toolkits import create_sql_agent\n",
    "from langchain_openai import ChatOpenAI\n",
    "\n",
    "llm = ChatOpenAI(api_key=os.environ['OPENAI_API_KEY'],model=\"gpt-4o\", temperature=0)\n",
    "agent = create_sql_agent(llm, db=db, agent_type=\"openai-tools\", verbose=True, agent_executor_kwargs={\"return_intermediate_steps\": True})"
   ]
  },
  {
   "cell_type": "code",
   "execution_count": 26,
   "metadata": {},
   "outputs": [
    {
     "name": "stdout",
     "output_type": "stream",
     "text": [
      "\n",
      "\n",
      "\u001b[1m> Entering new SQL Agent Executor chain...\u001b[0m\n",
      "\u001b[32;1m\u001b[1;3m\n",
      "Invoking: `sql_db_list_tables` with `{}`\n",
      "\n",
      "\n",
      "\u001b[0m\u001b[38;5;200m\u001b[1;3mclient_target_allocations, financial_advisor_clients\u001b[0m\u001b[32;1m\u001b[1;3m\n",
      "Invoking: `sql_db_schema` with `{'table_names': 'client_target_allocations'}`\n",
      "\n",
      "\n",
      "\u001b[0m\u001b[33;1m\u001b[1;3m\n",
      "CREATE TABLE client_target_allocations (\n",
      "\t\"Client\" TEXT, \n",
      "\t\"Target Portfolio\" TEXT, \n",
      "\t\"Asset Class\" TEXT, \n",
      "\t\"Target Allocation (%)\" FLOAT\n",
      ")\n",
      "\n",
      "/*\n",
      "3 rows from client_target_allocations table:\n",
      "Client\tTarget Portfolio\tAsset Class\tTarget Allocation (%)\n",
      "None\tBalanced\tStocks\t50.0\n",
      "Client_1\tBalanced\tBonds\t30.0\n",
      "Client_1\tBalanced\tETFs\t15.0\n",
      "*/\u001b[0m\u001b[32;1m\u001b[1;3m\n",
      "Invoking: `sql_db_query_checker` with `{'query': 'SELECT \"Target Portfolio\", \"Asset Class\", \"Target Allocation (%)\" FROM client_target_allocations WHERE Client = \\'Client_1\\' LIMIT 10;'}`\n",
      "\n",
      "\n",
      "\u001b[0m\u001b[36;1m\u001b[1;3m```sql\n",
      "SELECT \"Target Portfolio\", \"Asset Class\", \"Target Allocation (%)\" \n",
      "FROM client_target_allocations \n",
      "WHERE Client = 'Client_1' \n",
      "LIMIT 10;\n",
      "```\u001b[0m\u001b[32;1m\u001b[1;3m\n",
      "Invoking: `sql_db_query` with `{'query': 'SELECT \"Target Portfolio\", \"Asset Class\", \"Target Allocation (%)\" FROM client_target_allocations WHERE Client = \\'Client_1\\' LIMIT 10;'}`\n",
      "\n",
      "\n",
      "\u001b[0m\u001b[36;1m\u001b[1;3m[('Balanced', 'Bonds', 30.0), ('Balanced', 'ETFs', 15.0), ('Balanced', 'Cash', 5.0)]\u001b[0m\u001b[32;1m\u001b[1;3mThe target allocations for Client 1 are as follows:\n",
      "\n",
      "- **Target Portfolio:** Balanced\n",
      "  - **Asset Class:** Bonds, **Target Allocation:** 30.0%\n",
      "  - **Asset Class:** ETFs, **Target Allocation:** 15.0%\n",
      "  - **Asset Class:** Cash, **Target Allocation:** 5.0%\u001b[0m\n",
      "\n",
      "\u001b[1m> Finished chain.\u001b[0m\n"
     ]
    }
   ],
   "source": [
    "response = agent(\"What is the target allocation from Client 1\")"
   ]
  },
  {
   "cell_type": "code",
   "execution_count": 27,
   "metadata": {},
   "outputs": [
    {
     "data": {
      "text/plain": [
       "{'input': 'What is the target allocation from Client 1',\n",
       " 'output': 'The target allocations for Client 1 are as follows:\\n\\n- **Target Portfolio:** Balanced\\n  - **Asset Class:** Bonds, **Target Allocation:** 30.0%\\n  - **Asset Class:** ETFs, **Target Allocation:** 15.0%\\n  - **Asset Class:** Cash, **Target Allocation:** 5.0%',\n",
       " 'intermediate_steps': [(ToolAgentAction(tool='sql_db_list_tables', tool_input={}, log='\\nInvoking: `sql_db_list_tables` with `{}`\\n\\n\\n', message_log=[AIMessageChunk(content='', additional_kwargs={'tool_calls': [{'index': 0, 'id': 'call_b6kdPBYwFRAemhCfgT7QGyVO', 'function': {'arguments': '{}', 'name': 'sql_db_list_tables'}, 'type': 'function'}]}, response_metadata={'finish_reason': 'tool_calls'}, id='run-26191f7b-e008-4ba9-b3dc-a3ff56a0b686', tool_calls=[{'name': 'sql_db_list_tables', 'args': {}, 'id': 'call_b6kdPBYwFRAemhCfgT7QGyVO'}], tool_call_chunks=[{'name': 'sql_db_list_tables', 'args': '{}', 'id': 'call_b6kdPBYwFRAemhCfgT7QGyVO', 'index': 0}])], tool_call_id='call_b6kdPBYwFRAemhCfgT7QGyVO'),\n",
       "   'client_target_allocations, financial_advisor_clients'),\n",
       "  (ToolAgentAction(tool='sql_db_schema', tool_input={'table_names': 'client_target_allocations'}, log=\"\\nInvoking: `sql_db_schema` with `{'table_names': 'client_target_allocations'}`\\n\\n\\n\", message_log=[AIMessageChunk(content='', additional_kwargs={'tool_calls': [{'index': 0, 'id': 'call_Wav9yVXXKaRSoPHUtZdzIahC', 'function': {'arguments': '{\"table_names\":\"client_target_allocations\"}', 'name': 'sql_db_schema'}, 'type': 'function'}]}, response_metadata={'finish_reason': 'tool_calls'}, id='run-402480d5-1a44-4fa9-8dc0-e57a380a2156', tool_calls=[{'name': 'sql_db_schema', 'args': {'table_names': 'client_target_allocations'}, 'id': 'call_Wav9yVXXKaRSoPHUtZdzIahC'}], tool_call_chunks=[{'name': 'sql_db_schema', 'args': '{\"table_names\":\"client_target_allocations\"}', 'id': 'call_Wav9yVXXKaRSoPHUtZdzIahC', 'index': 0}])], tool_call_id='call_Wav9yVXXKaRSoPHUtZdzIahC'),\n",
       "   '\\nCREATE TABLE client_target_allocations (\\n\\t\"Client\" TEXT, \\n\\t\"Target Portfolio\" TEXT, \\n\\t\"Asset Class\" TEXT, \\n\\t\"Target Allocation (%)\" FLOAT\\n)\\n\\n/*\\n3 rows from client_target_allocations table:\\nClient\\tTarget Portfolio\\tAsset Class\\tTarget Allocation (%)\\nNone\\tBalanced\\tStocks\\t50.0\\nClient_1\\tBalanced\\tBonds\\t30.0\\nClient_1\\tBalanced\\tETFs\\t15.0\\n*/'),\n",
       "  (ToolAgentAction(tool='sql_db_query_checker', tool_input={'query': 'SELECT \"Target Portfolio\", \"Asset Class\", \"Target Allocation (%)\" FROM client_target_allocations WHERE Client = \\'Client_1\\' LIMIT 10;'}, log='\\nInvoking: `sql_db_query_checker` with `{\\'query\\': \\'SELECT \"Target Portfolio\", \"Asset Class\", \"Target Allocation (%)\" FROM client_target_allocations WHERE Client = \\\\\\'Client_1\\\\\\' LIMIT 10;\\'}`\\n\\n\\n', message_log=[AIMessageChunk(content='', additional_kwargs={'tool_calls': [{'index': 0, 'id': 'call_ySH738h8ajNWEQvoASKpWIt5', 'function': {'arguments': '{\"query\":\"SELECT \\\\\"Target Portfolio\\\\\", \\\\\"Asset Class\\\\\", \\\\\"Target Allocation (%)\\\\\" FROM client_target_allocations WHERE Client = \\'Client_1\\' LIMIT 10;\"}', 'name': 'sql_db_query_checker'}, 'type': 'function'}]}, response_metadata={'finish_reason': 'tool_calls'}, id='run-8f754874-3c25-4d5e-94ca-69a2652b30ee', tool_calls=[{'name': 'sql_db_query_checker', 'args': {'query': 'SELECT \"Target Portfolio\", \"Asset Class\", \"Target Allocation (%)\" FROM client_target_allocations WHERE Client = \\'Client_1\\' LIMIT 10;'}, 'id': 'call_ySH738h8ajNWEQvoASKpWIt5'}], tool_call_chunks=[{'name': 'sql_db_query_checker', 'args': '{\"query\":\"SELECT \\\\\"Target Portfolio\\\\\", \\\\\"Asset Class\\\\\", \\\\\"Target Allocation (%)\\\\\" FROM client_target_allocations WHERE Client = \\'Client_1\\' LIMIT 10;\"}', 'id': 'call_ySH738h8ajNWEQvoASKpWIt5', 'index': 0}])], tool_call_id='call_ySH738h8ajNWEQvoASKpWIt5'),\n",
       "   '```sql\\nSELECT \"Target Portfolio\", \"Asset Class\", \"Target Allocation (%)\" \\nFROM client_target_allocations \\nWHERE Client = \\'Client_1\\' \\nLIMIT 10;\\n```'),\n",
       "  (ToolAgentAction(tool='sql_db_query', tool_input={'query': 'SELECT \"Target Portfolio\", \"Asset Class\", \"Target Allocation (%)\" FROM client_target_allocations WHERE Client = \\'Client_1\\' LIMIT 10;'}, log='\\nInvoking: `sql_db_query` with `{\\'query\\': \\'SELECT \"Target Portfolio\", \"Asset Class\", \"Target Allocation (%)\" FROM client_target_allocations WHERE Client = \\\\\\'Client_1\\\\\\' LIMIT 10;\\'}`\\n\\n\\n', message_log=[AIMessageChunk(content='', additional_kwargs={'tool_calls': [{'index': 0, 'id': 'call_i7sUc2UrDswa9EAPpbD38jCc', 'function': {'arguments': '{\"query\":\"SELECT \\\\\"Target Portfolio\\\\\", \\\\\"Asset Class\\\\\", \\\\\"Target Allocation (%)\\\\\" FROM client_target_allocations WHERE Client = \\'Client_1\\' LIMIT 10;\"}', 'name': 'sql_db_query'}, 'type': 'function'}]}, response_metadata={'finish_reason': 'tool_calls'}, id='run-fa646dc3-0a1c-49b8-8854-4c104e2918c8', tool_calls=[{'name': 'sql_db_query', 'args': {'query': 'SELECT \"Target Portfolio\", \"Asset Class\", \"Target Allocation (%)\" FROM client_target_allocations WHERE Client = \\'Client_1\\' LIMIT 10;'}, 'id': 'call_i7sUc2UrDswa9EAPpbD38jCc'}], tool_call_chunks=[{'name': 'sql_db_query', 'args': '{\"query\":\"SELECT \\\\\"Target Portfolio\\\\\", \\\\\"Asset Class\\\\\", \\\\\"Target Allocation (%)\\\\\" FROM client_target_allocations WHERE Client = \\'Client_1\\' LIMIT 10;\"}', 'id': 'call_i7sUc2UrDswa9EAPpbD38jCc', 'index': 0}])], tool_call_id='call_i7sUc2UrDswa9EAPpbD38jCc'),\n",
       "   \"[('Balanced', 'Bonds', 30.0), ('Balanced', 'ETFs', 15.0), ('Balanced', 'Cash', 5.0)]\")]}"
      ]
     },
     "execution_count": 27,
     "metadata": {},
     "output_type": "execute_result"
    }
   ],
   "source": [
    "response"
   ]
  },
  {
   "cell_type": "code",
   "execution_count": 28,
   "metadata": {},
   "outputs": [
    {
     "name": "stdout",
     "output_type": "stream",
     "text": [
      "[(ToolAgentAction(tool='sql_db_list_tables', tool_input={}, log='\\nInvoking: `sql_db_list_tables` with `{}`\\n\\n\\n', message_log=[AIMessageChunk(content='', additional_kwargs={'tool_calls': [{'index': 0, 'id': 'call_b6kdPBYwFRAemhCfgT7QGyVO', 'function': {'arguments': '{}', 'name': 'sql_db_list_tables'}, 'type': 'function'}]}, response_metadata={'finish_reason': 'tool_calls'}, id='run-26191f7b-e008-4ba9-b3dc-a3ff56a0b686', tool_calls=[{'name': 'sql_db_list_tables', 'args': {}, 'id': 'call_b6kdPBYwFRAemhCfgT7QGyVO'}], tool_call_chunks=[{'name': 'sql_db_list_tables', 'args': '{}', 'id': 'call_b6kdPBYwFRAemhCfgT7QGyVO', 'index': 0}])], tool_call_id='call_b6kdPBYwFRAemhCfgT7QGyVO'), 'client_target_allocations, financial_advisor_clients'), (ToolAgentAction(tool='sql_db_schema', tool_input={'table_names': 'client_target_allocations'}, log=\"\\nInvoking: `sql_db_schema` with `{'table_names': 'client_target_allocations'}`\\n\\n\\n\", message_log=[AIMessageChunk(content='', additional_kwargs={'tool_calls': [{'index': 0, 'id': 'call_Wav9yVXXKaRSoPHUtZdzIahC', 'function': {'arguments': '{\"table_names\":\"client_target_allocations\"}', 'name': 'sql_db_schema'}, 'type': 'function'}]}, response_metadata={'finish_reason': 'tool_calls'}, id='run-402480d5-1a44-4fa9-8dc0-e57a380a2156', tool_calls=[{'name': 'sql_db_schema', 'args': {'table_names': 'client_target_allocations'}, 'id': 'call_Wav9yVXXKaRSoPHUtZdzIahC'}], tool_call_chunks=[{'name': 'sql_db_schema', 'args': '{\"table_names\":\"client_target_allocations\"}', 'id': 'call_Wav9yVXXKaRSoPHUtZdzIahC', 'index': 0}])], tool_call_id='call_Wav9yVXXKaRSoPHUtZdzIahC'), '\\nCREATE TABLE client_target_allocations (\\n\\t\"Client\" TEXT, \\n\\t\"Target Portfolio\" TEXT, \\n\\t\"Asset Class\" TEXT, \\n\\t\"Target Allocation (%)\" FLOAT\\n)\\n\\n/*\\n3 rows from client_target_allocations table:\\nClient\\tTarget Portfolio\\tAsset Class\\tTarget Allocation (%)\\nNone\\tBalanced\\tStocks\\t50.0\\nClient_1\\tBalanced\\tBonds\\t30.0\\nClient_1\\tBalanced\\tETFs\\t15.0\\n*/'), (ToolAgentAction(tool='sql_db_query_checker', tool_input={'query': 'SELECT \"Target Portfolio\", \"Asset Class\", \"Target Allocation (%)\" FROM client_target_allocations WHERE Client = \\'Client_1\\' LIMIT 10;'}, log='\\nInvoking: `sql_db_query_checker` with `{\\'query\\': \\'SELECT \"Target Portfolio\", \"Asset Class\", \"Target Allocation (%)\" FROM client_target_allocations WHERE Client = \\\\\\'Client_1\\\\\\' LIMIT 10;\\'}`\\n\\n\\n', message_log=[AIMessageChunk(content='', additional_kwargs={'tool_calls': [{'index': 0, 'id': 'call_ySH738h8ajNWEQvoASKpWIt5', 'function': {'arguments': '{\"query\":\"SELECT \\\\\"Target Portfolio\\\\\", \\\\\"Asset Class\\\\\", \\\\\"Target Allocation (%)\\\\\" FROM client_target_allocations WHERE Client = \\'Client_1\\' LIMIT 10;\"}', 'name': 'sql_db_query_checker'}, 'type': 'function'}]}, response_metadata={'finish_reason': 'tool_calls'}, id='run-8f754874-3c25-4d5e-94ca-69a2652b30ee', tool_calls=[{'name': 'sql_db_query_checker', 'args': {'query': 'SELECT \"Target Portfolio\", \"Asset Class\", \"Target Allocation (%)\" FROM client_target_allocations WHERE Client = \\'Client_1\\' LIMIT 10;'}, 'id': 'call_ySH738h8ajNWEQvoASKpWIt5'}], tool_call_chunks=[{'name': 'sql_db_query_checker', 'args': '{\"query\":\"SELECT \\\\\"Target Portfolio\\\\\", \\\\\"Asset Class\\\\\", \\\\\"Target Allocation (%)\\\\\" FROM client_target_allocations WHERE Client = \\'Client_1\\' LIMIT 10;\"}', 'id': 'call_ySH738h8ajNWEQvoASKpWIt5', 'index': 0}])], tool_call_id='call_ySH738h8ajNWEQvoASKpWIt5'), '```sql\\nSELECT \"Target Portfolio\", \"Asset Class\", \"Target Allocation (%)\" \\nFROM client_target_allocations \\nWHERE Client = \\'Client_1\\' \\nLIMIT 10;\\n```'), (ToolAgentAction(tool='sql_db_query', tool_input={'query': 'SELECT \"Target Portfolio\", \"Asset Class\", \"Target Allocation (%)\" FROM client_target_allocations WHERE Client = \\'Client_1\\' LIMIT 10;'}, log='\\nInvoking: `sql_db_query` with `{\\'query\\': \\'SELECT \"Target Portfolio\", \"Asset Class\", \"Target Allocation (%)\" FROM client_target_allocations WHERE Client = \\\\\\'Client_1\\\\\\' LIMIT 10;\\'}`\\n\\n\\n', message_log=[AIMessageChunk(content='', additional_kwargs={'tool_calls': [{'index': 0, 'id': 'call_i7sUc2UrDswa9EAPpbD38jCc', 'function': {'arguments': '{\"query\":\"SELECT \\\\\"Target Portfolio\\\\\", \\\\\"Asset Class\\\\\", \\\\\"Target Allocation (%)\\\\\" FROM client_target_allocations WHERE Client = \\'Client_1\\' LIMIT 10;\"}', 'name': 'sql_db_query'}, 'type': 'function'}]}, response_metadata={'finish_reason': 'tool_calls'}, id='run-fa646dc3-0a1c-49b8-8854-4c104e2918c8', tool_calls=[{'name': 'sql_db_query', 'args': {'query': 'SELECT \"Target Portfolio\", \"Asset Class\", \"Target Allocation (%)\" FROM client_target_allocations WHERE Client = \\'Client_1\\' LIMIT 10;'}, 'id': 'call_i7sUc2UrDswa9EAPpbD38jCc'}], tool_call_chunks=[{'name': 'sql_db_query', 'args': '{\"query\":\"SELECT \\\\\"Target Portfolio\\\\\", \\\\\"Asset Class\\\\\", \\\\\"Target Allocation (%)\\\\\" FROM client_target_allocations WHERE Client = \\'Client_1\\' LIMIT 10;\"}', 'id': 'call_i7sUc2UrDswa9EAPpbD38jCc', 'index': 0}])], tool_call_id='call_i7sUc2UrDswa9EAPpbD38jCc'), \"[('Balanced', 'Bonds', 30.0), ('Balanced', 'ETFs', 15.0), ('Balanced', 'Cash', 5.0)]\")]\n"
     ]
    }
   ],
   "source": [
    "print(response['intermediate_steps'])"
   ]
  },
  {
   "cell_type": "code",
   "execution_count": 37,
   "metadata": {},
   "outputs": [
    {
     "data": {
      "text/plain": [
       "ToolAgentAction(tool='sql_db_schema', tool_input={'table_names': 'client_target_allocations'}, log=\"\\nInvoking: `sql_db_schema` with `{'table_names': 'client_target_allocations'}`\\n\\n\\n\", message_log=[AIMessageChunk(content='', additional_kwargs={'tool_calls': [{'index': 0, 'id': 'call_Wav9yVXXKaRSoPHUtZdzIahC', 'function': {'arguments': '{\"table_names\":\"client_target_allocations\"}', 'name': 'sql_db_schema'}, 'type': 'function'}]}, response_metadata={'finish_reason': 'tool_calls'}, id='run-402480d5-1a44-4fa9-8dc0-e57a380a2156', tool_calls=[{'name': 'sql_db_schema', 'args': {'table_names': 'client_target_allocations'}, 'id': 'call_Wav9yVXXKaRSoPHUtZdzIahC'}], tool_call_chunks=[{'name': 'sql_db_schema', 'args': '{\"table_names\":\"client_target_allocations\"}', 'id': 'call_Wav9yVXXKaRSoPHUtZdzIahC', 'index': 0}])], tool_call_id='call_Wav9yVXXKaRSoPHUtZdzIahC')"
      ]
     },
     "execution_count": 37,
     "metadata": {},
     "output_type": "execute_result"
    }
   ],
   "source": [
    "from langchain.agents.output_parsers.tools import ToolAgentAction\n",
    "response[\"intermediate_steps\"][1][0]\n",
    "\n",
    "for intermediate_step in response[\"intermediate_steps\"][1]:\n",
    "    tool_action: ToolAgentAction = intermediate_step\n",
    "    if tool_action.tool == 'sql_db_schema':\n",
    "        print(tool.)"
   ]
  }
 ],
 "metadata": {
  "kernelspec": {
   "display_name": ".venv",
   "language": "python",
   "name": "python3"
  },
  "language_info": {
   "codemirror_mode": {
    "name": "ipython",
    "version": 3
   },
   "file_extension": ".py",
   "mimetype": "text/x-python",
   "name": "python",
   "nbconvert_exporter": "python",
   "pygments_lexer": "ipython3",
   "version": "3.10.14"
  }
 },
 "nbformat": 4,
 "nbformat_minor": 2
}
