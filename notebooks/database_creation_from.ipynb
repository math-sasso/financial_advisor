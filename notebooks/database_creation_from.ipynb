{
 "cells": [
  {
   "cell_type": "markdown",
   "metadata": {},
   "source": [
    "# Notebook to show how to simply create an sqlite database from a dataframe"
   ]
  },
  {
   "cell_type": "code",
   "execution_count": 1,
   "metadata": {},
   "outputs": [
    {
     "name": "stdout",
     "output_type": "stream",
     "text": [
      "Requirement already satisfied: sqlalchemy in /home/matheus/Projects/tests/motive/.venv/lib/python3.10/site-packages (2.0.30)\n",
      "Requirement already satisfied: greenlet!=0.4.17 in /home/matheus/Projects/tests/motive/.venv/lib/python3.10/site-packages (from sqlalchemy) (3.0.3)\n",
      "Requirement already satisfied: typing-extensions>=4.6.0 in /home/matheus/Projects/tests/motive/.venv/lib/python3.10/site-packages (from sqlalchemy) (4.12.2)\n",
      "\n",
      "\u001b[1m[\u001b[0m\u001b[34;49mnotice\u001b[0m\u001b[1;39;49m]\u001b[0m\u001b[39;49m A new release of pip is available: \u001b[0m\u001b[31;49m23.0.1\u001b[0m\u001b[39;49m -> \u001b[0m\u001b[32;49m24.0\u001b[0m\n",
      "\u001b[1m[\u001b[0m\u001b[34;49mnotice\u001b[0m\u001b[1;39;49m]\u001b[0m\u001b[39;49m To update, run: \u001b[0m\u001b[32;49mpip install --upgrade pip\u001b[0m\n"
     ]
    }
   ],
   "source": [
    "! pip install sqlalchemy"
   ]
  },
  {
   "cell_type": "code",
   "execution_count": 2,
   "metadata": {},
   "outputs": [
    {
     "data": {
      "text/plain": [
       "PosixPath('/home/matheus/Projects/tests/motive/data')"
      ]
     },
     "execution_count": 2,
     "metadata": {},
     "output_type": "execute_result"
    }
   ],
   "source": [
    "import os\n",
    "from pathlib import Path\n",
    "data_folder = Path.cwd().parent / 'data'\n",
    "data_folder"
   ]
  },
  {
   "cell_type": "code",
   "execution_count": 3,
   "metadata": {},
   "outputs": [
    {
     "data": {
      "text/plain": [
       "(PosixPath('/home/matheus/Projects/tests/motive/data/client_target_allocations.csv'),\n",
       " PosixPath('/home/matheus/Projects/tests/motive/data/financial_advisor_clients.csv'))"
      ]
     },
     "execution_count": 3,
     "metadata": {},
     "output_type": "execute_result"
    }
   ],
   "source": [
    "df_client_taget_allocations_path = data_folder/ 'client_target_allocations.csv'\n",
    "df_financial_advisor_clients_path = data_folder/ 'financial_advisor_clients.csv'\n",
    "df_client_taget_allocations_path, df_financial_advisor_clients_path"
   ]
  },
  {
   "cell_type": "code",
   "execution_count": 4,
   "metadata": {},
   "outputs": [
    {
     "data": {
      "text/plain": [
       "(     Client Target Portfolio Asset Class  Target Allocation (%)\n",
       " 0       NaN         Balanced      Stocks                   50.0\n",
       " 1  Client_1         Balanced       Bonds                   30.0\n",
       " 2  Client_1         Balanced        ETFs                   15.0\n",
       " 3  Client_1         Balanced        Cash                    5.0\n",
       " 4  Client_2         Balanced      Stocks                   50.0,\n",
       "      Client Symbol                                   Name  \\\n",
       " 0  Client_1    DIA  SPDR Dow Jones Industrial Average ETF   \n",
       " 1  Client_1  GOOGL                          Alphabet Inc.   \n",
       " 2  Client_1   AMZN                        Amazon.com Inc.   \n",
       " 3  Client_1   AAPL                             Apple Inc.   \n",
       " 4  Client_1   TSLA                             Tesla Inc.   \n",
       " \n",
       "                    Sector  Quantity  Buy Price  Current Price  Market Value  \\\n",
       " 0                     ETF     135.0     264.89         574.42      77546.70   \n",
       " 1  Communication Services      45.0      93.66        1062.91      47830.95   \n",
       " 2                     NaN     175.0     412.66        1431.35     250486.25   \n",
       " 3              Technology      48.0     991.77         524.13      25158.24   \n",
       " 4  Consumer Discretionary      42.0    1425.88         449.75      18889.50   \n",
       " \n",
       "   Purchase Date  Dividend Yield  P/E Ratio  52-Week High  52-Week Low  \\\n",
       " 0      12/11/21            1.61      19.20        674.71       493.60   \n",
       " 1      11/23/21            2.62      23.06       1205.77       866.81   \n",
       " 2       1/13/21            4.85      17.01       1601.19      1155.29   \n",
       " 3        2/5/21            3.61      22.04        634.28       341.92   \n",
       " 4        7/9/21            0.57      21.83        536.44       225.78   \n",
       " \n",
       "   Analyst Rating  Target Price Risk Level  \n",
       " 0           Hold        660.28     Medium  \n",
       " 1           Hold       1077.25     Medium  \n",
       " 2            Buy       1368.42        Low  \n",
       " 3            Buy        526.50        Low  \n",
       " 4            Buy        428.81        Low  )"
      ]
     },
     "execution_count": 4,
     "metadata": {},
     "output_type": "execute_result"
    }
   ],
   "source": [
    "import pandas as pd\n",
    "\n",
    "df_client_taget_allocations = pd.read_csv(df_client_taget_allocations_path)\n",
    "\n",
    "df_financial_advisor_clients = pd.read_csv(df_financial_advisor_clients_path)\n",
    "\n",
    "\n",
    "df_client_taget_allocations.head(5), df_financial_advisor_clients.head(5)"
   ]
  },
  {
   "cell_type": "code",
   "execution_count": 9,
   "metadata": {},
   "outputs": [
    {
     "data": {
      "text/plain": [
       "'/home/matheus/Projects/tests/motive/db/test.db'"
      ]
     },
     "execution_count": 9,
     "metadata": {},
     "output_type": "execute_result"
    }
   ],
   "source": [
    "# Path to your SQLite database file\n",
    "database_dirpath = Path.cwd().parent / \"db\"\n",
    "database_dirpath.mkdir(parents=True, exist_ok=True)\n",
    "\n",
    "database_file_path = database_dirpath / \"test.db\"\n",
    "database_file_path.as_posix()"
   ]
  },
  {
   "cell_type": "code",
   "execution_count": 10,
   "metadata": {},
   "outputs": [],
   "source": [
    "\n",
    "import sqlite3\n",
    "# Create an empty SQLite database if it does not exist\n",
    "if not database_file_path.exists():\n",
    "    conn = sqlite3.connect(database_file_path)\n",
    "    conn.close()"
   ]
  },
  {
   "cell_type": "code",
   "execution_count": 11,
   "metadata": {},
   "outputs": [
    {
     "name": "stdout",
     "output_type": "stream",
     "text": [
      "DataFrames have been successfully written to the database.\n"
     ]
    }
   ],
   "source": [
    "from sqlalchemy import create_engine\n",
    "\n",
    "\n",
    "# Create an engine to connect to the SQLite database\n",
    "engine = create_engine(f'sqlite:///{database_file_path.as_posix()}')\n",
    "\n",
    "# Write the first DataFrame to the 'all_states_history' table\n",
    "df_client_taget_allocations.to_sql(\n",
    "    'client_target_allocations',\n",
    "    con=engine,\n",
    "    if_exists='replace',\n",
    "    index=False\n",
    ")\n",
    "\n",
    "# Write the second DataFrame to the 'another_table' table\n",
    "df_financial_advisor_clients.to_sql(\n",
    "    'financial_advisor_clients',\n",
    "    con=engine,\n",
    "    if_exists='replace',\n",
    "    index=False\n",
    ")\n",
    "\n",
    "print(\"DataFrames have been successfully written to the database.\")\n"
   ]
  }
 ],
 "metadata": {
  "kernelspec": {
   "display_name": ".venv",
   "language": "python",
   "name": "python3"
  },
  "language_info": {
   "codemirror_mode": {
    "name": "ipython",
    "version": 3
   },
   "file_extension": ".py",
   "mimetype": "text/x-python",
   "name": "python",
   "nbconvert_exporter": "python",
   "pygments_lexer": "ipython3",
   "version": "3.10.14"
  }
 },
 "nbformat": 4,
 "nbformat_minor": 2
}
